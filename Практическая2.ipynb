{
  "nbformat": 4,
  "nbformat_minor": 0,
  "metadata": {
    "colab": {
      "name": "Практическая2.ipynb",
      "provenance": [],
      "collapsed_sections": []
    },
    "kernelspec": {
      "name": "python3",
      "display_name": "Python 3"
    }
  },
  "cells": [
    {
      "cell_type": "code",
      "metadata": {
        "id": "rinfU9dvTpjb",
        "outputId": "04148e7b-3535-4f8f-e079-2509f33200c3",
        "colab": {
          "base_uri": "https://localhost:8080/",
          "height": 353
        }
      },
      "source": [
        "#Попова Е.Д.\n",
        "#АДЭУ-201\n",
        "class Spaceship:\n",
        "    def __init__(self):\n",
        "        self.hp=100\n",
        "        self.speed=13000\n",
        "        self.crew=64\n",
        "        self.power_reserve=56000\n",
        "    def __str__(self):\n",
        "        return \"Spaceship:{};{};{}:{}\".format(self.hp,self.speed,self.crew,self.power_reserve)\n",
        "    def draw(self):\n",
        "        print('    ______   ')\n",
        "        print('+  /      \\+')\n",
        "        print('+ /   ПП   \\+')\n",
        "        print('+ |--------|+')\n",
        "        print('+-|--------|+')\n",
        "        print('+ |--------| +')\n",
        "        print('  |________|  ')\n",
        "        print('  ||------||')\n",
        "        print('  ||      ||')\n",
        " \n",
        " \n",
        "class StarDestroyer(Spaceship):\n",
        "    def __init__(self):\n",
        "        super().__init__()\n",
        "        self.shields=100\n",
        "        self.shields_enabled=False\n",
        "        self.weapons=[100]*15\n",
        "    def __str__(self):\n",
        "        return \"Stardestroyer:{},{}\".format(self.shields,self.weapons)\n",
        "    def shields_on(self):\n",
        "        self.shields_enabled=True\n",
        "    def shields_off(self):\n",
        "        self.shields_enabled = False\n",
        "    def hit(self):\n",
        "        if self.shields_enabled:\n",
        "            self.shields-=10\n",
        "        else:\n",
        "            self.hp -= 10\n",
        "    def draw(self):\n",
        "        print(\"            /\\             \")\n",
        "        print(\"           /  \\            \")\n",
        "        print(\"          /    \\           \")\n",
        "        print(\"         /  | | \\          \")\n",
        "        print(\"        /        \\          \")\n",
        "        print(\"       /   /..\\   \\          \")\n",
        "        print(\"      /   +-----+  \\          \")\n",
        "        print(\"     +---+-+---+-+--+        \")\n",
        "        print(\"         |_|   |_|            \")\n",
        "r1=Spaceship()\n",
        "print(r1.draw())       \n",
        "r2=StarDestroyer()\n",
        "print(r2.draw())"
      ],
      "execution_count": null,
      "outputs": [
        {
          "output_type": "stream",
          "text": [
            "    ______   \n",
            "+  /      \\+\n",
            "+ /   ПП   \\+\n",
            "+ |--------|+\n",
            "+-|--------|+\n",
            "+ |--------| +\n",
            "  |________|  \n",
            "  ||------||\n",
            "  ||      ||\n",
            "None\n",
            "            /\\             \n",
            "           /  \\            \n",
            "          /    \\           \n",
            "         /  | | \\          \n",
            "        /        \\          \n",
            "       /   /..\\   \\          \n",
            "      /   +-----+  \\          \n",
            "     +---+-+---+-+--+        \n",
            "         |_|   |_|            \n",
            "None\n"
          ],
          "name": "stdout"
        }
      ]
    },
    {
      "cell_type": "markdown",
      "metadata": {
        "id": "Hc4vs_Jhah72"
      },
      "source": [
        "**Задание 1**"
      ]
    },
    {
      "cell_type": "code",
      "metadata": {
        "id": "FhIrcZqnahs5",
        "outputId": "491275d0-037b-4b10-cda8-61309d3afe3e",
        "colab": {
          "base_uri": "https://localhost:8080/",
          "height": 84
        }
      },
      "source": [
        "class First:\n",
        "  color=\"red\"\n",
        "  def out(self):\n",
        "    print(self.color + \"!\")\n",
        "obj1=First()\n",
        "obj2=First()\n",
        "print(obj1.color)\n",
        "print(obj2.color)\n",
        "obj1.out()\n",
        "obj2.out()\n",
        "  "
      ],
      "execution_count": null,
      "outputs": [
        {
          "output_type": "stream",
          "text": [
            "red\n",
            "red\n",
            "red!\n",
            "red!\n"
          ],
          "name": "stdout"
        }
      ]
    },
    {
      "cell_type": "markdown",
      "metadata": {
        "id": "LPjZfRX2cguf"
      },
      "source": [
        "**Задание 2 вместе с практическим заданием 1**"
      ]
    },
    {
      "cell_type": "code",
      "metadata": {
        "id": "xTXnKefHcZG8",
        "outputId": "705a0863-1aea-40ef-a87a-429404fc9cdf",
        "colab": {
          "base_uri": "https://localhost:8080/",
          "height": 118
        }
      },
      "source": [
        "class Second:\n",
        "  color=\"red\"\n",
        "  form=\"circle\"\n",
        "  size=15\n",
        "  def changecolor (self,newcolor):\n",
        "    self.color=newcolor\n",
        "  def changeform(self,newform):\n",
        "    self.form=newform\n",
        "  def changesize(self,newsize):\n",
        "    self.size=newsize\n",
        "obj1=Second()\n",
        "obj2=Second()\n",
        "obj3=Second()\n",
        "print(obj1.color, obj1.form,obj1.size)\n",
        "print(obj2.color, obj2.form,obj2.size)\n",
        "print(obj3.color, obj3.form,obj3.size)\n",
        "\n",
        "obj1.changecolor(\"green\")\n",
        "obj2.changecolor(\"orange\")\n",
        "obj3.changecolor(\"purple\")\n",
        "obj1.changeform(\"square\")\n",
        "obj2.changeform(\"triangle\")\n",
        "obj3.changeform(\"rhomb\")\n",
        "obj1.changesize(14)\n",
        "obj2.changesize(25)\n",
        "obj3.changesize(70)\n",
        "print(obj1.color,obj1.form,obj1.size)\n",
        "print(obj2.color,obj2.form,obj2.size)\n",
        "print(obj3.color,obj3.form,obj3.size)\n"
      ],
      "execution_count": null,
      "outputs": [
        {
          "output_type": "stream",
          "text": [
            "red circle 15\n",
            "red circle 15\n",
            "red circle 15\n",
            "green square 14\n",
            "orange triangle 25\n",
            "purple rhomb 70\n"
          ],
          "name": "stdout"
        }
      ]
    },
    {
      "cell_type": "markdown",
      "metadata": {
        "id": "2bgb-0nJ08zx"
      },
      "source": [
        "**Практическое задание 2**"
      ]
    },
    {
      "cell_type": "code",
      "metadata": {
        "id": "SBWl2ySbjHZr",
        "outputId": "708d8e0d-ead3-4c89-d3db-bccc1660238f",
        "colab": {
          "base_uri": "https://localhost:8080/",
          "height": 84
        }
      },
      "source": [
        "class Dog:\n",
        "    def __init__(self,name,leg_count,tails_count,hungry):\n",
        "        self.name=name\n",
        "        self.leg_count=leg_count\n",
        "        self.tails_count=tails_count\n",
        "        self.hungry=hungry\n",
        "    def about(self):\n",
        "        print('Кличка собаки',self.name,'У неё',self.leg_count,'ног(и) и',self.tails_count,'хвост(ов). Собака',self.hungry)\n",
        "\n",
        "class Action:\n",
        "    def feedDog(self,hungry):\n",
        "        if hungry==\"голодна\":\n",
        "            print(\"Покормите собаку\")\n",
        "        elif hungry==\"сыта\":\n",
        "            print(\"Собака сыта\")\n",
        "        else:\n",
        "            print(\"Ошибка, вызывайте ветеринара.\")\n",
        "            \n",
        "action=Action()\n",
        "\n",
        "dog=Dog(\"Бим\", 4, 1, \"сыта\")\n",
        "dog.about()\n",
        "action.feedDog(dog.hungry)\n",
        "dog1=Dog(\"Зюзя\",3,1,\"голодна\")\n",
        "dog1.about()\n",
        "action.feedDog(dog1.hungry)"
      ],
      "execution_count": null,
      "outputs": [
        {
          "output_type": "stream",
          "text": [
            "Кличка собаки Бим У неё 4 ног(и) и 1 хвост(ов). Собака сыта\n",
            "Собака сыта\n",
            "Кличка собаки Зюзя У неё 3 ног(и) и 1 хвост(ов). Собака голодна\n",
            "Покормите собаку\n"
          ],
          "name": "stdout"
        }
      ]
    },
    {
      "cell_type": "markdown",
      "metadata": {
        "id": "3_cjzEQh1JfU"
      },
      "source": [
        "**Задание 3**\n"
      ]
    },
    {
      "cell_type": "code",
      "metadata": {
        "id": "TA41XvCEhQi5",
        "outputId": "5f1e799b-b964-480e-f60c-6fd2d56f7ed5",
        "colab": {
          "base_uri": "https://localhost:8080/",
          "height": 50
        }
      },
      "source": [
        "class YesInit:\n",
        "  def __init__(self,one,two):\n",
        "   self.fname=one\n",
        "   self.sname=two\n",
        "  \n",
        "obj1=YesInit(\"Peter\",\"Ok\")\n",
        "\n",
        "print(obj1.fname,obj1.sname)\n",
        "\n",
        "class NoInit:\n",
        "  def names(self,one,two):\n",
        "    self.fname=one\n",
        "    self.sname=two\n",
        "obj1=NoInit()\n",
        "obj1.names(\"Peter\",\"Ok\")\n",
        "print(obj1.fname,obj1.sname)"
      ],
      "execution_count": null,
      "outputs": [
        {
          "output_type": "stream",
          "text": [
            "Peter Ok\n",
            "Peter Ok\n"
          ],
          "name": "stdout"
        }
      ]
    },
    {
      "cell_type": "markdown",
      "metadata": {
        "id": "xjnMUIXM1U-V"
      },
      "source": [
        "**Задание 4**"
      ]
    },
    {
      "cell_type": "code",
      "metadata": {
        "id": "GjNBRrd-ie-d",
        "outputId": "ae2ecbde-3f53-4853-bcba-21fcf2a1422e",
        "colab": {
          "base_uri": "https://localhost:8080/",
          "height": 84
        }
      },
      "source": [
        "class YesInit:\n",
        "  def __init__(self,one=\"ОБЯЗАН\",two=\"ПЛАТИТЬ\"):\n",
        "   self.fname=one\n",
        "   self.sname=two\n",
        "  \n",
        "obj1=YesInit(\"Каждый\",\"гражданин\")\n",
        "obj2=YesInit()\n",
        "obj3=YesInit(\"НАЛОГИ\")\n",
        "obj4=YesInit(two=\"ОБЯЯЯЗАН\")\n",
        "print(obj1.fname,obj1.sname)\n",
        "print(obj2.fname,obj2.sname)\n",
        "print(obj3.fname,obj3.sname)\n",
        "print(obj4.fname,obj4.sname)"
      ],
      "execution_count": null,
      "outputs": [
        {
          "output_type": "stream",
          "text": [
            "Каждый гражданин\n",
            "ОБЯЗАН ПЛАТИТЬ\n",
            "НАЛОГИ ПЛАТИТЬ\n",
            "ОБЯЗАН ОБЯЯЯЗАН\n"
          ],
          "name": "stdout"
        }
      ]
    },
    {
      "cell_type": "markdown",
      "metadata": {
        "id": "6zqOeefX1b0H"
      },
      "source": [
        "**Задание 5**"
      ]
    },
    {
      "cell_type": "code",
      "metadata": {
        "id": "TIcEahuj1a0Y",
        "outputId": "265a0db4-ffd6-47de-d2b6-981870da1e77",
        "colab": {
          "base_uri": "https://localhost:8080/",
          "height": 128
        }
      },
      "source": [
        "class Fruits:\n",
        "  def __init__(self,w,n=0):\n",
        "    self.what=w\n",
        "    self.numbers=n\n",
        "\n",
        "f1=Fruits('banana',38)\n",
        "f2=Fruits('apple')\n",
        "\n",
        "class Fruits:\n",
        "  def __init__ (self,n=0,w): #тут должна быть ошибка по самому заданию\n",
        "    self.what=w\n",
        "    self.numbers=n\n",
        "\n",
        "f1=Fruits(38,'banana')\n",
        "f2=Fruits('apple')\n",
        "\n",
        "print(f1.what,f1.numbers)\n",
        "print(f2.what,f2.numbers)"
      ],
      "execution_count": null,
      "outputs": [
        {
          "output_type": "error",
          "ename": "SyntaxError",
          "evalue": "ignored",
          "traceback": [
            "\u001b[0;36m  File \u001b[0;32m\"<ipython-input-75-874fca3185ac>\"\u001b[0;36m, line \u001b[0;32m10\u001b[0m\n\u001b[0;31m    def __init__ (self,n=0,w): #тут должна быть ошибка по самому заданию\u001b[0m\n\u001b[0m                 ^\u001b[0m\n\u001b[0;31mSyntaxError\u001b[0m\u001b[0;31m:\u001b[0m non-default argument follows default argument\n"
          ]
        }
      ]
    },
    {
      "cell_type": "markdown",
      "metadata": {
        "id": "5iTE6vgY4hFQ"
      },
      "source": [
        " \n",
        "**Задание 6 с практическим заданием**\n",
        "1.Атрибут where создаётся в конструкторе, метод __init__(6 строка). \n",
        "2.Чтобы не прописывать несколько раз if-elif-else, его выношу в отдельную функцию , а не оставляю в методе."
      ]
    },
    {
      "cell_type": "code",
      "metadata": {
        "id": "FMrtcmd54ggT",
        "outputId": "07a30a88-0a69-4601-9d8c-2c275cd6faa5",
        "colab": {
          "base_uri": "https://localhost:8080/",
          "height": 84
        }
      },
      "source": [
        "class Building:\n",
        "  def __init__(self,w,c,n=0):\n",
        "    self.what=w\n",
        "    self.color=c\n",
        "    self.numbers=n\n",
        "    self.mwhere(n)\n",
        "\n",
        "  def mwhere(self,n):\n",
        "    if n<=0:\n",
        "      self.where=\"отсутствуют\"\n",
        "    elif 0<n<100:\n",
        "      self.where=\"малый склад\"\n",
        "    else:\n",
        "      self.where=\"основной склад\"\n",
        "    \n",
        "  def plus(self,p):\n",
        "    self.numbers=self.numbers+p\n",
        "    self.mwhere(self.numbers)\n",
        "\n",
        "  def minus(self,m):\n",
        "    self.numbers=self.numbers-m\n",
        "    self.mwhere(self.numbers)\n",
        "\n",
        "m1=Building(\"Кирпичи\",\"красные\",45)\n",
        "m2=Building(\"Доски\",\"белые\",320)\n",
        "m3=Building(\"Доски\",\"красные\")\n",
        "\n",
        "print(m1.what,m1.color,m1.numbers)\n",
        "print(m2.what,m2.color,m2.numbers)\n",
        "print(m3.what,m3.color,m3.numbers)\n",
        "\n",
        "m1.plus(610)\n",
        "print(m1.numbers,m1.where)"
      ],
      "execution_count": null,
      "outputs": [
        {
          "output_type": "stream",
          "text": [
            "Кирпичи красные 45\n",
            "Доски белые 320\n",
            "Доски красные 0\n",
            "655 основной склад\n"
          ],
          "name": "stdout"
        }
      ]
    },
    {
      "cell_type": "markdown",
      "metadata": {
        "id": "YIe0YaXPBYRo"
      },
      "source": [
        "**практическое задание 2**"
      ]
    },
    {
      "cell_type": "code",
      "metadata": {
        "id": "DIzoa7S38gYA",
        "outputId": "7b71e1f1-cef7-425e-9754-34ee103e7a9b",
        "colab": {
          "base_uri": "https://localhost:8080/",
          "height": 151
        }
      },
      "source": [
        "class Shop:\n",
        "  def __init__(self,w,c,n=0):\n",
        "    self.what=w\n",
        "    self.color=c\n",
        "    self.numbers=n\n",
        "    self.mwhere(n)\n",
        "\n",
        "  def mwhere(self,n):\n",
        "    if n<=0:\n",
        "      self.where=\"нет в наличии\"\n",
        "    elif 0<n<100:\n",
        "      self.where=\"в зале\"\n",
        "    else:\n",
        "      self.where=\"на складе\"\n",
        "\n",
        "  def plus(self,p):\n",
        "    self.numbers=self.numbers+p\n",
        "    self.mwhere(self.numbers)\n",
        "\n",
        "  def minus(self,m):\n",
        "    self.numbers=self.numbers-m\n",
        "    self.mwhere(self.numbers)\n",
        "\n",
        "  def division(self,d):\n",
        "    self.numbers=self.numbers//d\n",
        "    self.mwhere(self.numbers)\n",
        "\n",
        "  def increase(self,i):\n",
        "    self.numbers=self.numbers*i\n",
        "    self.mwhere(self.numbers)\n",
        "\n",
        "m1=Shop(\"Бомбер\",\"красный\",45)\n",
        "m2=Shop(\"Кроссовки\",\"белые\",320)\n",
        "m3=Shop(\"Ботильоны\",\"черные\")\n",
        "m4=Shop(\"Шарф\",\"Хаки\",15)\n",
        "\n",
        "print(m1.what,m1.color,m1.numbers)\n",
        "print(m2.what,m2.color,m2.numbers)\n",
        "print(m3.what,m3.color,m3.numbers)\n",
        "print(m4.what,m4.color,m4.numbers)\n",
        "\n",
        "m1.division(5)\n",
        "print(m1.numbers,m1.where)\n",
        "m2.minus(320)\n",
        "print(m2.numbers,m2.where)\n",
        "m3.plus(35)\n",
        "print(m3.numbers,m3.where)\n",
        "m4.increase(10)\n",
        "print(m4.numbers,m4.where)\n",
        "\n"
      ],
      "execution_count": null,
      "outputs": [
        {
          "output_type": "stream",
          "text": [
            "Бомбер красный 45\n",
            "Кроссовки белые 320\n",
            "Ботильоны черные 0\n",
            "Шарф Хаки 15\n",
            "9 в зале\n",
            "0 нет в наличии\n",
            "35 в зале\n",
            "150 на складе\n"
          ],
          "name": "stdout"
        }
      ]
    },
    {
      "cell_type": "markdown",
      "metadata": {
        "id": "H9Gu0j23B4ip"
      },
      "source": [
        "**Задание 7**"
      ]
    },
    {
      "cell_type": "code",
      "metadata": {
        "id": "-ure-wBrB1yi",
        "outputId": "6e2fae08-61ed-4a81-9ef0-4c88d6611fb8",
        "colab": {
          "base_uri": "https://localhost:8080/",
          "height": 84
        }
      },
      "source": [
        "class Things:\n",
        "  def __init__(self,n,t):\n",
        "    self.namething=n\n",
        "    self.total=t\n",
        "\n",
        "th1=Things(\"table\",5)\n",
        "th2=Things(\"computer\",7)\n",
        "print(th1.namething,th1.total)\n",
        "print(th2.namething,th2.total)\n",
        "\n",
        "th1.color=\"green\"\n",
        "th2.color=\"grey\"\n",
        "print(th1.color)\n",
        "print(th2.color)"
      ],
      "execution_count": null,
      "outputs": [
        {
          "output_type": "stream",
          "text": [
            "table 5\n",
            "computer 7\n",
            "green\n",
            "grey\n"
          ],
          "name": "stdout"
        }
      ]
    },
    {
      "cell_type": "markdown",
      "metadata": {
        "id": "EtN9mhfh61pa"
      },
      "source": [
        "**Задание 8**"
      ]
    },
    {
      "cell_type": "code",
      "metadata": {
        "id": "aAzWWFmJWKzw",
        "outputId": "8ef33462-dcb7-4060-88ee-a082923f83e2",
        "colab": {
          "base_uri": "https://localhost:8080/",
          "height": 151
        }
      },
      "source": [
        "class Table:\n",
        "    def __init__(self,l,w,h):\n",
        "        self.long=l\n",
        "        self.width=w\n",
        "        self.height=h\n",
        "    def outing(self):\n",
        "        print(self.long,self.width,self.height)\n",
        "\n",
        "class Kitchen(Table):\n",
        "    def howplaces(self,n):\n",
        "        if n<2:\n",
        "            print(\"Это не кухонный стол\")\n",
        "        else:\n",
        "            self.places=n\n",
        "    def outplaces(self):\n",
        "        print(self.places)\n",
        "\n",
        "class Working(Table):\n",
        "    def light(self,k):\n",
        "        if k==0:\n",
        "            print(\"Света нет\")\n",
        "        elif k==1:\n",
        "            print(\"Свет есть\")\n",
        "        else:\n",
        "            print(\"Зовите Галю!\")\n",
        "    def time(self,hours):\n",
        "        if hours==13 or hours==14:\n",
        "            print(\"Обед\")\n",
        "        elif hours>=9 and hours<=18:\n",
        "            print(\"Работаем\")\n",
        "        else:\n",
        "            print (\"Не работаем\")\n",
        "\n",
        "t_room1=Kitchen(2,1,0.5)\n",
        "t_room1.outing()\n",
        "t_room1.howplaces(5)\n",
        "t_room1.outplaces()\n",
        "\n",
        "t_2=Table(1,3,0.7)\n",
        "t_2.outing()\n",
        "#t_2.howplaces(8) эта строчка выдаст ошибку,т.к. объект 2 относится к классу Table, мы не можем обращаться к методам класса Kitchen\n",
        "\n",
        "t_3=Working(4,3,0.8)\n",
        "t_3.time(14)\n",
        "\n",
        "t_4=Working(4,3,0.8)\n",
        "t_4.time(18)\n",
        "t_4.light(2)\n",
        "\n",
        "t_5=Working(4,3,0.8)\n",
        "t_5.time(19)\n",
        "t_5.light(0)\n"
      ],
      "execution_count": null,
      "outputs": [
        {
          "output_type": "stream",
          "text": [
            "2 1 0.5\n",
            "5\n",
            "1 3 0.7\n",
            "Обед\n",
            "Работаем\n",
            "Зовите Галю!\n",
            "Не работаем\n",
            "Света нет\n"
          ],
          "name": "stdout"
        }
      ]
    },
    {
      "cell_type": "markdown",
      "metadata": {
        "id": "kP6M3Rv2Cmqe"
      },
      "source": [
        "**практическая работа**"
      ]
    },
    {
      "cell_type": "code",
      "metadata": {
        "id": "oLQAhVskCwWt",
        "outputId": "d2892353-46b7-46eb-e06e-496a2cfc33a5",
        "colab": {
          "base_uri": "https://localhost:8080/",
          "height": 84
        }
      },
      "source": [
        "class Figure:\n",
        "  def __init__(self,color):\n",
        "        self.color=color\n",
        "  \n",
        "  color=\"white\"\n",
        "  def changecolor (self,newcolor):\n",
        "    self.color=newcolor\n",
        "\n",
        "class Oval(Figure):\n",
        "  def __init__(self,size,color):\n",
        "    self.size=size\n",
        "    \n",
        "\n",
        "class Square(Figure):\n",
        "  def __init__(self,size,color):\n",
        "    self.size=size\n",
        "    \n",
        "obj1=Oval(15,())\n",
        "obj2=Square(85,())\n",
        "\n",
        "print(obj1.color,obj1.size)\n",
        "print(obj2.color,obj2.size)\n",
        "\n",
        "obj1.changecolor(\"blue\")\n",
        "obj2.changecolor(\"red\")\n",
        "print(obj1.color,obj1.size)\n",
        "print(obj2.color,obj2.size)\n"
      ],
      "execution_count": null,
      "outputs": [
        {
          "output_type": "stream",
          "text": [
            "white 15\n",
            "white 85\n",
            "blue 15\n",
            "red 85\n"
          ],
          "name": "stdout"
        }
      ]
    }
  ]
}
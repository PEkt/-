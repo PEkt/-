{
  "nbformat": 4,
  "nbformat_minor": 0,
  "metadata": {
    "colab": {
      "name": "Самостоятельная работа. Попова Е.Д.ipynb",
      "provenance": []
    },
    "kernelspec": {
      "name": "python3",
      "display_name": "Python 3"
    }
  },
  "cells": [
    {
      "cell_type": "code",
      "metadata": {
        "id": "q4xc9UwuSVaE"
      },
      "source": [
        "#вариант 13\n",
        "class Date:\n",
        "    def __init__(self, day, month, year): #конструктор\n",
        "        self.day = day\n",
        "        self.month = month\n",
        "        self.year = year\n",
        "\n",
        "    def __del__(self): #деструктор\n",
        "        print('Объект удален')\n",
        "\n",
        "    def number_day(self):\n",
        "        if self.day == self.month:\n",
        "            return True\n",
        "        else:\n",
        "            return False\n",
        "\n",
        "    def leap_year(self):\n",
        "        if self.year % 400 == 0:\n",
        "           return True\n",
        "        elif self.year % 100 == 0:\n",
        "           return False   \n",
        "        elif self.year % 4 == 0:\n",
        "           return True  \n",
        "\n",
        "    def last_month_day(self):\n",
        "        if self.month in (1,3,5,7,8,10,11,12):\n",
        "           return 31\n",
        "        elif self.month == 2:\n",
        "            if self.leap_year():\n",
        "                return 29\n",
        "            else:\n",
        "                return 28    \n",
        "        else: \n",
        "           return 30         \n",
        "\n",
        "    def change_month(self):      \n",
        "        if self.month >= 12:\n",
        "            self.month = 1\n",
        "            self.year += 1\n",
        "        else:     \n",
        "            self.month += 1 \n",
        "\n",
        "        if self.day > self.last_month_day():\n",
        "           self.day = self.last_month_day()    \n",
        "       \n",
        "\n",
        "    def __str__(self):\n",
        "        return '{:0>2}.{:0>2}.{:0>4}'.format(self.day, self.month,self.year) \n"
      ],
      "execution_count": 37,
      "outputs": []
    },
    {
      "cell_type": "code",
      "metadata": {
        "id": "P6rzKkX1boPs",
        "outputId": "14bafac5-fccb-4dfc-e937-d534f97782a1",
        "colab": {
          "base_uri": "https://localhost:8080/"
        }
      },
      "source": [
        "date1=Date(23,10,2005)\n",
        "date1.change_month()\n",
        "print(date1)"
      ],
      "execution_count": 38,
      "outputs": [
        {
          "output_type": "stream",
          "text": [
            "Объект удален\n",
            "23.11.2005\n"
          ],
          "name": "stdout"
        }
      ]
    },
    {
      "cell_type": "code",
      "metadata": {
        "id": "EtXYEyBBxP9I",
        "outputId": "e0d00652-2682-477a-f837-bfa32f38b1f7",
        "colab": {
          "base_uri": "https://localhost:8080/"
        }
      },
      "source": [
        "date2=Date(18,4,2003)\n",
        "date2.change_month()\n",
        "print(date2)"
      ],
      "execution_count": 39,
      "outputs": [
        {
          "output_type": "stream",
          "text": [
            "Объект удален\n",
            "18.05.2003\n"
          ],
          "name": "stdout"
        }
      ]
    },
    {
      "cell_type": "code",
      "metadata": {
        "id": "vLUVxsb2xVcM",
        "outputId": "94071cda-3de1-45de-b52f-34c7fda00351",
        "colab": {
          "base_uri": "https://localhost:8080/"
        }
      },
      "source": [
        "date3=Date(12,12,2010)\n",
        "date3.change_month()\n",
        "print(date3)"
      ],
      "execution_count": 40,
      "outputs": [
        {
          "output_type": "stream",
          "text": [
            "Объект удален\n",
            "12.01.2011\n"
          ],
          "name": "stdout"
        }
      ]
    },
    {
      "cell_type": "code",
      "metadata": {
        "id": "oxlSYAR6xbn2",
        "outputId": "ba3fd6dd-cff9-480c-de5b-740dcffb2a7b",
        "colab": {
          "base_uri": "https://localhost:8080/"
        }
      },
      "source": [
        "day = int(input('Введите день месяца: '))\n",
        "month = int(input('Введите номер месяца: '))\n",
        "year = int(input('Введите год: '))\n",
        "\n",
        "date4=Date(day, month, year)\n",
        "date4.change_month()\n",
        "print(date4)"
      ],
      "execution_count": 41,
      "outputs": [
        {
          "output_type": "stream",
          "text": [
            "Введите день месяца: 31\n",
            "Введите номер месяца: 1\n",
            "Введите год: 2020\n",
            "Объект удален\n",
            "29.02.2020\n"
          ],
          "name": "stdout"
        }
      ]
    }
  ]
}
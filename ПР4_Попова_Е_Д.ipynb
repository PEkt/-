{
  "nbformat": 4,
  "nbformat_minor": 0,
  "metadata": {
    "colab": {
      "name": "ПР4 Попова Е.Д.ipynb",
      "provenance": []
    },
    "kernelspec": {
      "name": "python3",
      "display_name": "Python 3"
    }
  },
  "cells": [
    {
      "cell_type": "code",
      "metadata": {
        "colab": {
          "base_uri": "https://localhost:8080/"
        },
        "id": "l3QSZFHsqs4q",
        "outputId": "e5ac7b5d-6182-4e27-840a-c85af18d97a9"
      },
      "source": [
        "#Вариант 13\n",
        "class Respublica:\n",
        "  def __init__(self,ruler):\n",
        "    self.ruler=ruler\n",
        "\n",
        "class Monarchy(Respublica):\n",
        "  def __init__(self,stability,ruler):\n",
        "    Respublica.__init__(self,ruler)\n",
        "    self.stability=stability\n",
        "\n",
        "class Korolevstvo(Monarchy):\n",
        "  def levellife(self):\n",
        "    return self.stability/self.ruler\n",
        "\n",
        "class Gosudarstvo(Monarchy):\n",
        "  def levellife(self):\n",
        "    return Korolevstvo.levellife(self)*1.1\n",
        "\n",
        "korolevstvo=Korolevstvo(45,5)\n",
        "print(korolevstvo.levellife())\n",
        "gosudarstvo=Gosudarstvo(45,4)\n",
        "print(gosudarstvo.levellife())"
      ],
      "execution_count": 28,
      "outputs": [
        {
          "output_type": "stream",
          "text": [
            "9.0\n",
            "12.375000000000002\n"
          ],
          "name": "stdout"
        }
      ]
    }
  ]
}
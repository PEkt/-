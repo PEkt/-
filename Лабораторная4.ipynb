{
  "nbformat": 4,
  "nbformat_minor": 0,
  "metadata": {
    "colab": {
      "name": "Лабораторная4.ipynb",
      "provenance": [],
      "collapsed_sections": []
    },
    "kernelspec": {
      "name": "python3",
      "display_name": "Python 3"
    }
  },
  "cells": [
    {
      "cell_type": "markdown",
      "metadata": {
        "id": "M2i-IFny6L7z"
      },
      "source": [
        "№ 4.2.1\n",
        "\n",
        "Рассчитать значение f при заданном значении вещественного числа x:\n",
        "\n",
        "f(x)=⎧⎩⎨⎪⎪x−−√+x2,1x,при x⩾0,в противном случае.\n",
        "При выводе на экран оставьте 2 знака после запятой."
      ]
    },
    {
      "cell_type": "code",
      "metadata": {
        "id": "y4qXAYcq5yHJ",
        "outputId": "91ed4ab2-16cc-4b2e-e1d4-8d29cb89065c",
        "colab": {
          "base_uri": "https://localhost:8080/",
          "height": 51
        }
      },
      "source": [
        "#Попова Е.Д.\n",
        "#Группа АДЭУ-201\n",
        "#ektpopova.03@mail.ru\n",
        "import math\n",
        "x = float(input('x= '))\n",
        " \n",
        "if x >= 0:\n",
        "  f= math.sqrt(x)+x**2\n",
        "else:\n",
        "  f = 1 / x\n",
        " \n",
        "print('f=', round (f,2) )\n",
        " \n",
        "# —----------—\n",
        "# Пример вывода:\n",
        "#\n",
        "# Введите число x: -10\n",
        "# f = -0.10\n",
        " \n",
        "# Введите число x: 0\n",
        "# f = 0.00\n",
        " \n",
        "# Введите число x: 10\n",
        "# f = 103.16"
      ],
      "execution_count": null,
      "outputs": [
        {
          "output_type": "stream",
          "text": [
            "x= -10\n",
            "f= -0.1\n"
          ],
          "name": "stdout"
        }
      ]
    },
    {
      "cell_type": "markdown",
      "metadata": {
        "id": "v8GIWTg16YKu"
      },
      "source": [
        "№ 4.2.2\n",
        "\n",
        "Определите максимальное и минимальное значения из двух различных целых чисел."
      ]
    },
    {
      "cell_type": "code",
      "metadata": {
        "id": "JBbDPrdC6Xse",
        "outputId": "ba60d14a-229a-4869-d449-687615a23889",
        "colab": {
          "base_uri": "https://localhost:8080/",
          "height": 119
        }
      },
      "source": [
        "a1 = int(input('a1= '))\n",
        "a2 = int(input('a2= '))\n",
        " \n",
        "# Переменная 'a_min' должна содержать минимум, 'a_max' - максимум\n",
        "if a1==a2:\n",
        "  print('a1=a2')\n",
        "elif a1>a2:\n",
        "  print('a1-max','a2-min')\n",
        "else:\n",
        "  print('a2-max','a1-min')\n",
        "# —----------—\n",
        "# Пример вывода:\n",
        "#\n",
        "# Введите первое число: 1\n",
        "# Введите второе число: 2\n",
        "# Максимум: 2, минимум: 1\n",
        " \n",
        "# Введите первое число: 5\n",
        "# Введите второе число: 5\n",
        "# Максимум: 5, минимум: 5\n",
        " \n",
        "# Введите первое число: 100\n",
        "# Введите второе число: -1\n",
        "# Максимум: 100, минимум: -1"
      ],
      "execution_count": null,
      "outputs": [
        {
          "output_type": "stream",
          "text": [
            "a1= 5\n",
            "a2=5\n",
            "a1=a2\n",
            "a1= 5\n",
            "a2= 3\n",
            "a1-max a2-min\n"
          ],
          "name": "stdout"
        }
      ]
    },
    {
      "cell_type": "markdown",
      "metadata": {
        "id": "JXwXqYoU6daB"
      },
      "source": [
        "№ 4.2.3\n",
        "\n",
        "Вася пытается высунуть голову в форточку размерами a и b см. Приняв условно, что его голова - круглая диаметром d см, определите, сможет ли Вася сделать это. Для прохождения головы в форточку необходим зазор в 1 см. с каждой стороны.\n",
        "\n",
        "Все величины - целые числа."
      ]
    },
    {
      "cell_type": "code",
      "metadata": {
        "id": "2IzaXXpu6ehm",
        "outputId": "a7fb05b9-1e0a-41c0-f1ae-120092340599",
        "colab": {
          "base_uri": "https://localhost:8080/",
          "height": 85
        }
      },
      "source": [
        "d = int(input('диаметр головы ='))\n",
        "a = int(input('ширина форточки='))\n",
        "b = int(input('высота форточки='))\n",
        " \n",
        " \n",
        "# Введенные числа должны быть положительными, если так - осуществляем\n",
        "# расчет, иначе выводим \"Проверьте ввод\"\n",
        "if a>=d+1 and b>=d+1: # Зазор\n",
        "   print('Вася сможет')\n",
        " \n",
        "    # Вывести \"Да\" или \"Нет\"\n",
        "else:\n",
        "  print('Вася не пролезет')\n",
        " \n",
        " \n",
        " \n",
        "# --------------\n",
        "# Пример вывода:\n",
        "#\n",
        "# Ширина форточки: 5\n",
        "# Высота форточки: 6\n",
        "# Диаметр головы: 6\n",
        "# Нет\n",
        " \n",
        "# Ширина форточки: 6\n",
        "# Высота форточки: 7\n",
        "# Диаметр головы: 4\n",
        "# Да"
      ],
      "execution_count": null,
      "outputs": [
        {
          "output_type": "stream",
          "text": [
            "диаметр головы =5\n",
            "ширина форточки=6\n",
            "высота форточки=6\n",
            "Вася сможет\n"
          ],
          "name": "stdout"
        }
      ]
    },
    {
      "cell_type": "markdown",
      "metadata": {
        "id": "6UA85xwt6e0u"
      },
      "source": [
        "№ 4.2.4\n",
        "\n",
        "Известны год и номер месяца сегодняшнего дня, а также год и номер месяца рождения человека (нумерация месяцев с 1: январь - 1 и т.д.). Определите возраст человека (число полных лет).\n",
        "\n"
      ]
    },
    {
      "cell_type": "code",
      "metadata": {
        "id": "pKv5jbkN6f7G",
        "outputId": "1f43e949-3a4b-4812-8d96-f254c0a67174",
        "colab": {
          "base_uri": "https://localhost:8080/",
          "height": 67
        }
      },
      "source": [
        "#1 способ\n",
        "import random\n",
        "month=random.randint(1,12)\n",
        "year=random.randint(1900,2000)\n",
        "year_td=random.randint(2001,2100)\n",
        "month_td=random.randint(1,12)\n",
        "print('месяц/год рожд.: {}/{}\\nгод/месяц сегодня:{}/{}'.format(month, year, month_td, year_td))\n",
        "old=year_td-year\n",
        "if month_td<month:\n",
        "    old-=1\n",
        "print(old)    \n"
      ],
      "execution_count": null,
      "outputs": [
        {
          "output_type": "stream",
          "text": [
            "месяц/год рожд.: 1/1997\n",
            "год/месяц сегодня:9/2013\n",
            "16\n"
          ],
          "name": "stdout"
        }
      ]
    },
    {
      "cell_type": "code",
      "metadata": {
        "id": "LcNAi83V4awm",
        "outputId": "38cf7c44-e964-4a8c-8983-bae45f522af8",
        "colab": {
          "base_uri": "https://localhost:8080/",
          "height": 102
        }
      },
      "source": [
        "#2 способ\n",
        "year_today = int(input(\"Введите текущий год:\"))\n",
        "month_today = int(input(\"Введите текущий месяц:\"))\n",
        " \n",
        "year = int(input(\"Введите год рождения:\"))\n",
        "month = int(input(\"Введите месяц рождения:\"))\n",
        " \n",
        "if (month_today >= month):\n",
        "  age = year_today - year\n",
        "else:\n",
        "  age = year_today - year - 1\n",
        " \n",
        "print(\"Число полных лет: \", age)"
      ],
      "execution_count": null,
      "outputs": [
        {
          "output_type": "stream",
          "text": [
            "Введите текущий год:2020\n",
            "Введите текущий месяц:10\n",
            "Введите год рождения:2003\n",
            "Введите месяц рождения:4\n",
            "Число полных лет:  17\n"
          ],
          "name": "stdout"
        }
      ]
    },
    {
      "cell_type": "markdown",
      "metadata": {
        "id": "YmKhQoa-6gQW"
      },
      "source": [
        "№ 4.2.5\n",
        "\n",
        "Дана точка с целыми ненулевыми координатами (x;y). Определить номер четверти координатной плоскости, которой она принадлежит."
      ]
    },
    {
      "cell_type": "code",
      "metadata": {
        "id": "UinW-a6q6cgV",
        "outputId": "cea0841d-8c02-4859-f3ae-4b14fcc462b7",
        "colab": {
          "base_uri": "https://localhost:8080/",
          "height": 67
        }
      },
      "source": [
        "\n",
        "x=float(input(\"x=\"))\n",
        "y=float(input(\"y=\"))\n",
        "if x>=0:\n",
        "    if y>=0:\n",
        "        print('1st quarter')\n",
        "    else:\n",
        "        print('4th quarter')\n",
        "elif y>=0:\n",
        "    print('2nd quarter')\n",
        "else:\n",
        "    print('3rd quarter')\n",
        "\n",
        "\n",
        "# --------------\n",
        "# Пример вывода:\n",
        "#\n",
        "# Введите координату x: 5\n",
        "# Введите координату y: 7\n",
        "# 1-я четверть\n"
      ],
      "execution_count": null,
      "outputs": [
        {
          "output_type": "stream",
          "text": [
            "x=-2\n",
            "y=0\n",
            "2nd quarter\n"
          ],
          "name": "stdout"
        }
      ]
    },
    {
      "cell_type": "markdown",
      "metadata": {
        "id": "9ckrCvOP64of"
      },
      "source": [
        "№ 4.2.6\n",
        "\n",
        "Даны вещественные числа a, b, c (a≠0).\n",
        "\n",
        "Решите уравнение ax2+bx+c=0. При выводе значений оставьте 1 знак после запятой."
      ]
    },
    {
      "cell_type": "code",
      "metadata": {
        "id": "SYzsr8x9646s",
        "outputId": "3dcbaeb5-83b2-464f-a99d-94465d9ba704",
        "colab": {
          "base_uri": "https://localhost:8080/",
          "height": 102
        }
      },
      "source": [
        " \n",
        "print('ax^2+bx+c=0')\n",
        "a=float(input(\"a=\"))\n",
        "b=float(input(\"b=\"))\n",
        "c=float(input(\"c=\"))\n",
        "if a == 0:\n",
        "    print('а=0')\n",
        "else:\n",
        "    d=b**2-4*a*c\n",
        "    if d<0:\n",
        "        print(None)\n",
        "    elif d==0:\n",
        "        print('x=',-0.5*b/a)\n",
        "    else:\n",
        "        print('x1={}\\nx2={}'.format((-b-d**0.5)/(2*a),(-b+d**0.5)/(2*a)))\n",
        "# --------------\n",
        "# Пример вывода:\n",
        "#\n",
        "# a = 1\n",
        "# b = 2\n",
        "# c = 3\n",
        "# Решений нет\n",
        "#\n",
        "# a = 1\n",
        "# b = 2\n",
        "# c = 1\n",
        "# x = -1.0\n",
        "#\n",
        "# a = 1\n",
        "# b = 3\n",
        "# c = -4\n",
        "# x1 = -4.0, x2 = 1.0"
      ],
      "execution_count": null,
      "outputs": [
        {
          "output_type": "stream",
          "text": [
            "ax^2+bx+c=0\n",
            "a=1\n",
            "b=2\n",
            "c=3\n",
            "None\n"
          ],
          "name": "stdout"
        }
      ]
    },
    {
      "cell_type": "markdown",
      "metadata": {
        "id": "a-zEIlGu65In"
      },
      "source": [
        "№ 4.2.7\n",
        "\n",
        "Дана непустая последовательность целых чисел, оканчивающаяся нулем. Найти сумму и количество введенных чисел."
      ]
    },
    {
      "cell_type": "code",
      "metadata": {
        "id": "vpHVb79C65YG",
        "outputId": "a570622b-c2f5-4255-9b74-f9a7dc08afae",
        "colab": {
          "base_uri": "https://localhost:8080/",
          "height": 118
        }
      },
      "source": [
        "count = 0\n",
        "amount = 1\n",
        "count = x = int(input('первый член='))\n",
        "while x != 0:\n",
        "    x = int(input('следующий член='))\n",
        "    amount+=1\n",
        "    count+=x\n",
        "print('sum =', count, '\\namount =', amount)\n",
        "\n",
        "\n",
        "# --------------\n",
        "# Пример вывода:\n",
        "#\n",
        "# Введите 1-е число: 1\n",
        "# Введите 2-е число: 2\n",
        "# Введите 3-е число: 3\n",
        "# Введите 4-е число: 4\n",
        "# Введите 5-е число: 0\n",
        "# Сумма = 10\n",
        "# Количество = 4\n",
        "#\n",
        "# Введите 1-е число: 0\n",
        "# Сумма = 0\n",
        "# Количество = 0\n"
      ],
      "execution_count": null,
      "outputs": [
        {
          "output_type": "stream",
          "text": [
            "первый член=6\n",
            "следующий член=5\n",
            "следующий член=3\n",
            "следующий член=0\n",
            "sum = 14 \n",
            "amount = 4\n"
          ],
          "name": "stdout"
        }
      ]
    },
    {
      "cell_type": "markdown",
      "metadata": {
        "id": "NFxbrfkD7O_7"
      },
      "source": [
        "№ 4.2.10\n",
        "\n",
        "Дано натуральное число. Определите сумму и количество его цифр."
      ]
    },
    {
      "cell_type": "code",
      "metadata": {
        "id": "pyY3LKTR7PLu",
        "outputId": "b3f4c1d6-789c-4dd0-faa8-7d291440382e",
        "colab": {
          "base_uri": "https://localhost:8080/",
          "height": 67
        }
      },
      "source": [
        "\n",
        "x=int(input('число ='))\n",
        "count=i=0\n",
        "while x!=0:\n",
        "    count+=x%10\n",
        "    x//=10\n",
        "    i+=1\n",
        "print('сумма =', count,'\\nколичество цифр =', i)\n",
        "\n",
        "# --------------\n",
        "# Пример вывода:\n",
        "#\n",
        "# n = 12345\n",
        "# Сумма = 15\n",
        "# Количество = 5\n"
      ],
      "execution_count": null,
      "outputs": [
        {
          "output_type": "stream",
          "text": [
            "число =12345\n",
            "сумма = 15 \n",
            "количество цифр = 5\n"
          ],
          "name": "stdout"
        }
      ]
    },
    {
      "cell_type": "markdown",
      "metadata": {
        "id": "3okWJvR99DrN"
      },
      "source": [
        "№ 4.2.11 Вывести в строку 10 первых натуральных чисел, оканчивающихся на цифру k, кратных числу s и находящихся в интервале, левая граница которого равна start."
      ]
    },
    {
      "cell_type": "code",
      "metadata": {
        "id": "tCdfM_fF9DRx",
        "outputId": "9505cc11-5604-46b7-e31e-8ffd6932bd9f",
        "colab": {
          "base_uri": "https://localhost:8080/",
          "height": 105
        }
      },
      "source": [
        "start = int(input(\"start = \"))\n",
        "k = int(input(\"k = \"))\n",
        "s = int(input(\"s = \"))\n",
        "n_count = 0\n",
        " \n",
        " \n",
        "while n_count <10:\n",
        "  if start % 10 == k and start % s == 0:\n",
        "    n_count += 1\n",
        "    print(start, end=\" \")\n",
        "  start +=1"
      ],
      "execution_count": null,
      "outputs": [
        {
          "output_type": "stream",
          "text": [
            "start = 100\n",
            "k = 7\n",
            "s = 9\n",
            "117 207 297 387 477 567 657 747 837 927 "
          ],
          "name": "stdout"
        }
      ]
    },
    {
      "cell_type": "markdown",
      "metadata": {
        "id": "gseKwTGf7PmO"
      },
      "source": [
        "№ 4.2.12\n",
        "\n",
        "Даны целые числа a и b (a может быть больше b). Напечатайте:\n",
        "\n",
        "числа от минимального до максимального в строчку (разделяя пробелом);\n",
        "\n",
        "числа от максимального до минимального «столбиком»."
      ]
    },
    {
      "cell_type": "code",
      "metadata": {
        "id": "WR4xR8ru7Pvu",
        "outputId": "a4f50aaf-f8d7-493a-86c0-a03ac3a0396f",
        "colab": {
          "base_uri": "https://localhost:8080/",
          "height": 168
        }
      },
      "source": [
        "a=int(input('a='))\n",
        "b=int(input('b='))\n",
        "n=1\n",
        "if a>b:\n",
        "    n=-n\n",
        "for i in range(a,b,n):\n",
        "    print(i,end=' ')\n",
        "print(b,'\\n')\n",
        "for i in range(b,a,-n):\n",
        "    print(i)\n",
        "print(a)\n",
        "\n",
        "# --------------\n",
        "# Пример вывода:\n",
        "#\n",
        "# a = 1\n",
        "# b = 5\n",
        "# 1 2 3 4 5\n",
        "# 5\n",
        "# 4\n",
        "# 3\n",
        "# 2\n",
        "# 1\n"
      ],
      "execution_count": null,
      "outputs": [
        {
          "output_type": "stream",
          "text": [
            "a=5\n",
            "b=1\n",
            "5 4 3 2 1 \n",
            "\n",
            "1\n",
            "2\n",
            "3\n",
            "4\n",
            "5\n"
          ],
          "name": "stdout"
        }
      ]
    },
    {
      "cell_type": "markdown",
      "metadata": {
        "id": "J6URUpNd6osI"
      },
      "source": [
        "№ 4.2.13\n",
        "\n",
        "Для введенных с клавиатуры положительных целых чисел a и b (a≤b) определите:\n",
        "\n",
        "-сумму всех целых чисел от a до b;\n",
        "\n",
        "-произведение всех целых чисел от a до b;\n",
        "\n",
        "-среднее арифметическое всех целых чисел от a до b;\n",
        "\n",
        "-среднее геометрическое нечетных чисел от a до b.\n",
        "\n",
        "Отрезок поиска включает сами числа a и b. При выводе вещественных результатов оставьте два знака после запятой."
      ]
    },
    {
      "cell_type": "code",
      "metadata": {
        "id": "r_2_hnhv5yD3",
        "outputId": "affeae2b-0d65-4059-b7d4-3d4e24fe4c01",
        "colab": {
          "base_uri": "https://localhost:8080/",
          "height": 134
        }
      },
      "source": [
        "from math import sqrt\n",
        "\n",
        "a = int(input(\"a=\"))\n",
        "b = int(input(\"b=\"))\n",
        "n_mult = 1\n",
        "if a <= b:\n",
        "  n_sum = sum(range(a, b+1))\n",
        "  for i in range(a, b + 1):\n",
        "    n_mult *= i\n",
        "    n_sr_ar = sum(range(a, b+1)) / len(range(a, b+1))\n",
        "    n_sr_geom= round(sqrt(a * b), 2)\n",
        "  print(\"Сумма =\", n_sum)\n",
        "  print(\"Произведение =\", n_mult)\n",
        "  print(\"Среднее арифметическое = {}\".format(n_sr_ar))\n",
        "  print(\"Среднее геометрическое нечетных чисел = {}\".format(n_sr_geom))\n",
        "  print(\"Отрезок =\", list(range(a, b+1)))\n",
        "else:\n",
        "  print(\"Не соответствует условию\")\n"
      ],
      "execution_count": 93,
      "outputs": [
        {
          "output_type": "stream",
          "text": [
            "a=7\n",
            "b=9\n",
            "Сумма = 24\n",
            "Произведение = 504\n",
            "Среднее арифметическое = 8.0\n",
            "Среднее геометрическое нечетных чисел = 7.94\n",
            "Отрезок = [7, 8, 9]\n"
          ],
          "name": "stdout"
        }
      ]
    },
    {
      "cell_type": "markdown",
      "metadata": {
        "id": "Mq_ZOo4K60Ak"
      },
      "source": [
        "№ 4.2.14\n",
        "\n",
        "Начав тренировки, лыжник в первый день пробежал s км. (s>0, вещественное число). Каждый следующий день он увеличивал пробег на p % (0<p≤100, вещественное число) от пробега предыдущего дня. Определите:\n",
        "\n",
        "-пробег лыжника за второй, третий, …, десятый день тренировок;\n",
        "\n",
        "-какой суммарный путь он пробежал за первые 10 дней тренировок.\n",
        "\n",
        "При выводе вещественных результатов оставьте один знак после запятой."
      ]
    },
    {
      "cell_type": "code",
      "metadata": {
        "id": "hxgWhvHw60c-",
        "outputId": "951432f5-7c47-428f-cf21-65bd6035f5f2",
        "colab": {
          "base_uri": "https://localhost:8080/",
          "height": 222
        }
      },
      "source": [
        "p = float(input(\"Пробег за первый день(км.)=\"))\n",
        "a = float(input(\"На сколько увеличивает пробег(%)=\"))\n",
        " \n",
        "total = p\n",
        "for i in range(2,11):\n",
        "  p+= (p/100)*a\n",
        "  print(\"Пробег за {}-й день:\".format(i), round(p, 1))\n",
        "  total+= p\n",
        "print(\"Суммарный пробег: {:.1f} км.\".format(total))"
      ],
      "execution_count": null,
      "outputs": [
        {
          "output_type": "stream",
          "text": [
            "Пробег за первый день(км.)=5\n",
            "На сколько увеличивает пробег(%)=88\n",
            "Пробег за 2-й день: 9.4\n",
            "Пробег за 3-й день: 17.7\n",
            "Пробег за 4-й день: 33.2\n",
            "Пробег за 5-й день: 62.5\n",
            "Пробег за 6-й день: 117.4\n",
            "Пробег за 7-й день: 220.8\n",
            "Пробег за 8-й день: 415.0\n",
            "Пробег за 9-й день: 780.2\n",
            "Пробег за 10-й день: 1466.9\n",
            "Суммарный пробег: 3128.1 км.\n"
          ],
          "name": "stdout"
        }
      ]
    },
    {
      "cell_type": "markdown",
      "metadata": {
        "id": "uuUcYedq7Qb_"
      },
      "source": [
        "№ 4.2.15\n",
        "\n",
        "Известна масса каждого предмета в кг., загружаемого в грузовик. Определить, возможна ли перевозка груза, если грузоподъемность грузовика равна p кг."
      ]
    },
    {
      "cell_type": "code",
      "metadata": {
        "id": "4yIrMHLS7QkR",
        "outputId": "45caf466-b5db-42c7-eb60-b255ffeaeb48",
        "colab": {
          "base_uri": "https://localhost:8080/",
          "height": 119
        }
      },
      "source": [
        "p=int(input('kg='))  \n",
        "amount=int(input('amount='))\n",
        "total=0\n",
        "for i in range(amount):\n",
        "    mass=int(input('mass of {} subject ='.format(i+1)))\n",
        "    total+=mass\n",
        "    \n",
        "print('total mass =',total)\n",
        "if total <=p:\n",
        "    print('Да')\n",
        "else:\n",
        "    print('Нет')\n",
        " \n",
        "# --------------\n",
        "# Пример вывода:\n",
        "#\n",
        "# Грузоподъемность грузовика (кг.) = 10\n",
        "# Количество предметов = 2\n",
        "# Масса 1-го предмета (кг.) = 3\n",
        "# Масса 2-го предмета (кг.) = 3\n",
        "# Да"
      ],
      "execution_count": null,
      "outputs": [
        {
          "output_type": "stream",
          "text": [
            "kg=10\n",
            "amount=2\n",
            "mass of 1 subject =3\n",
            "mass of 2 subject =3\n",
            "total mass = 6\n",
            "Да\n"
          ],
          "name": "stdout"
        }
      ]
    },
    {
      "cell_type": "markdown",
      "metadata": {
        "id": "a4J9Qi8e7QtA"
      },
      "source": [
        "№ 4.2.16\n",
        "\n",
        "В области несколько районов. Заданы площади, засеваемые пшеницей (га.), и средняя урожайность (ц/га) в каждом районе.\n",
        "\n",
        "Определите количество пшеницы, собранное по области. При выводе вещественных результатов оставьте один знак после запятой."
      ]
    },
    {
      "cell_type": "code",
      "metadata": {
        "id": "u4GxHmax7Q2R",
        "outputId": "117f09a3-2d84-47d8-d12e-94c0a81b15d7",
        "colab": {
          "base_uri": "https://localhost:8080/",
          "height": 119
        }
      },
      "source": [
        " \n",
        "amount=int(input('amount='))\n",
        "total=t_area=0\n",
        "for i in range(amount):\n",
        "    area=float(input('{} area ='.format(i+1)))\n",
        "    product=float(input('{} productivity ='.format(i+1)))\n",
        "    total+=area*product\n",
        "    t_area+=area\n",
        "print('total wheat = {:.1f}'.format(total))"
      ],
      "execution_count": null,
      "outputs": [
        {
          "output_type": "stream",
          "text": [
            "amount=2\n",
            "1 area =2.345\n",
            "1 productivity =2.4322\n",
            "2 area =2\n",
            "2 productivity =881.8\n",
            "total wheat = 1769.3\n"
          ],
          "name": "stdout"
        }
      ]
    },
    {
      "cell_type": "markdown",
      "metadata": {
        "id": "Av_2er9X7Q-c"
      },
      "source": [
        "№ 4.2.17\n",
        "\n",
        "Решите задачу № 4.2.7, организовав бесконечный цикл, который бы прерывался при выполнении условия, используя оператор break.\n",
        "\n"
      ]
    },
    {
      "cell_type": "code",
      "metadata": {
        "id": "e5j0Kz9a7RGx",
        "outputId": "5ab73531-14bc-4d0d-cfd7-13569b4e0d1a",
        "colab": {
          "base_uri": "https://localhost:8080/",
          "height": 68
        }
      },
      "source": [
        "count = 0\n",
        "amount = 1\n",
        "count = x = int(input('первый член='))\n",
        "while True:\n",
        "    if x==0:\n",
        "        break\n",
        "    x = int(input('следующий член='))\n",
        "    amount+=1\n",
        "    count+=x\n",
        "print('sum =', count, '\\namount =', amount)\n",
        " \n",
        " \n",
        "# --------------\n",
        "# Пример вывода:\n",
        "#\n",
        "# Введите 1-е число: 1\n",
        "# Введите 2-е число: 2\n",
        "# Введите 3-е число: 3\n",
        "# Введите 4-е число: 4\n",
        "# Введите 5-е число: 0\n",
        "# Сумма = 10\n",
        "# Количество = 4\n",
        "#\n",
        "# Введите 1-е число: 0\n",
        "# Сумма = 0\n",
        "# Количество = 0"
      ],
      "execution_count": null,
      "outputs": [
        {
          "output_type": "stream",
          "text": [
            "первый член=0\n",
            "sum = 0 \n",
            "amount = 1\n"
          ],
          "name": "stdout"
        }
      ]
    },
    {
      "cell_type": "markdown",
      "metadata": {
        "id": "9LFTS_zu7RPU"
      },
      "source": [
        "№ 4.2.18\n",
        "\n",
        "Предложение, введенное с клавиатуры, содержит слова из гласных и согласных букв кириллицы (регистр может быть различный), а также пробелы.\n",
        "\n",
        "Определите количество гласных и согласных букв в предложении. Для пропуска пробелов используйте оператор continue."
      ]
    },
    {
      "cell_type": "code",
      "metadata": {
        "id": "ANPUqCvN7RX_",
        "outputId": "29e1a856-d3cf-431d-f850-c8257be53490",
        "colab": {
          "base_uri": "https://localhost:8080/",
          "height": 85
        }
      },
      "source": [
        "sentence=input('counting vowels,counting n_vowels:\\n')\n",
        "vowels=[\"А\",\"а\",\"О\",\"о\",\"Ю\",\"ю\",\"Ы\",\"ы\",\"Я\",\"я\",\"Э\",\"э\",\"И\",\"и\",\"Е\",\"е\",\"У\",\"у\",\"Ё\",\"ё\"]\n",
        "count=0\n",
        "for i in sentence:\n",
        "  if i not in vowels:\n",
        "    continue\n",
        "  count+=1\n",
        "print('amount of vowels=',count)\n",
        "n_vowels=[\"Й\",\"й\",\"Ц\",\"ц\",\"К\",\"к\",\"Н\",\"н\",\"Г\",\"г\",\"Ш\",\"ш\",\"Щ\",\"щ\",\"З\",\"з\",\"Х\",\"х\",\"Ъ\",\"ъ\",\"Ф\",\"ф\",\"В\",\"в\",\"П\",\"п\",\"Р\",\"р\",\"Л\",\"л\",\"Д\",\"д\",\"Ж\",\"ж\",\"Ч\",\"ч\",\"С\",\"с\",\"М\",\"м\",\"Т\",\"т\",\"Ь\",\"ь\",\"Б\",\"б\",]\n",
        "count=0\n",
        "for i in sentence:\n",
        "  if i not in n_vowels:\n",
        "    continue\n",
        "  count+=1\n",
        "print('amount of n_vowels=',count)\n",
        "# Удалите комментарий и допишите код\n",
        " \n",
        "# --------------\n",
        "# Пример вывода:\n",
        "#\n",
        "# Введите предложение: Программирование\n",
        "# Кол-во букв в предложении: гласных - 7, согласных - 9"
      ],
      "execution_count": null,
      "outputs": [
        {
          "output_type": "stream",
          "text": [
            "counting vowels,counting n_vowels:\n",
            "Катя\n",
            "amount of vowels= 2\n",
            "amount of n_vowels= 2\n"
          ],
          "name": "stdout"
        }
      ]
    },
    {
      "cell_type": "markdown",
      "metadata": {
        "id": "E8L7kAbm7Rgu"
      },
      "source": [
        "№ 4.2.19\n",
        "\n",
        "Выведите на экран (в строку) все целые числа от a до b, кратные некоторому числу c."
      ]
    },
    {
      "cell_type": "code",
      "metadata": {
        "id": "10SseYqG7Roy",
        "outputId": "d4b39b08-61eb-4408-9106-d2140dddd591",
        "colab": {
          "base_uri": "https://localhost:8080/",
          "height": 85
        }
      },
      "source": [
        "a=int(input('a='))\n",
        "b=int(input('b='))\n",
        "c=int(input('c='))\n",
        "if a>b:\n",
        "    p=range(b-1,a+1)\n",
        "else:\n",
        "    p=range(a-1,b+1)\n",
        "for i in p:\n",
        "    if i%c==0:\n",
        "        print(i, end=\" \" )\n",
        "# --------------\n",
        "# Пример вывода:\n",
        "#\n",
        "# a = 1\n",
        "# b = 10\n",
        "# c = 2\n",
        "# 0 2 4 6 8 10"
      ],
      "execution_count": null,
      "outputs": [
        {
          "output_type": "stream",
          "text": [
            "a=1\n",
            "b=10\n",
            "c=2\n",
            "0 2 4 6 8 10 "
          ],
          "name": "stdout"
        }
      ]
    },
    {
      "cell_type": "markdown",
      "metadata": {
        "id": "M-0oELNB7Rxc"
      },
      "source": [
        "№ 4.2.20\n",
        "\n",
        "Выведите на экран (в строку) все трехзначные натуральные числа, сумма цифр которых равна целому числу n (0<n≤27)."
      ]
    },
    {
      "cell_type": "code",
      "metadata": {
        "id": "n6qF0LLb7R76",
        "outputId": "5cca9f4a-985c-4f26-be79-6b59ab35e976",
        "colab": {
          "base_uri": "https://localhost:8080/",
          "height": 85
        }
      },
      "source": [
        "n=int(input('0<n<=27\\nn = '))\n",
        "print('sum of numeral = {}:'.format(n))\n",
        "for a in range(100, 1000):\n",
        "    quant=a%10+(a//10)%10+a//100\n",
        "    if quant==n:\n",
        "        print(a, end=\" \")\n",
        " \n",
        "# --------------\n",
        "# Пример вывода:\n",
        "#\n",
        "# n = 3\n",
        "# 102 111 120 201 210 300"
      ],
      "execution_count": null,
      "outputs": [
        {
          "output_type": "stream",
          "text": [
            "0<n<=27\n",
            "n = 3\n",
            "sum of numeral = 3:\n",
            "102 111 120 201 210 300 "
          ],
          "name": "stdout"
        }
      ]
    },
    {
      "cell_type": "markdown",
      "metadata": {
        "id": "bDmH88qQ8O5_"
      },
      "source": [
        "№ 4.2.21\n",
        "\n",
        "Известно количество учеников в классе и их рост (см.); рост мальчиков условно задан отрицательными числами. Определите средний рост мальчиков и средний рост девочек.\n",
        "\n",
        "При выводе вещественных результатов оставьте один знак после запятой."
      ]
    },
    {
      "cell_type": "code",
      "metadata": {
        "id": "RjvTrvaA8PDz",
        "outputId": "df9618c2-6c4d-4758-e59b-c98c60212f16",
        "colab": {
          "base_uri": "https://localhost:8080/",
          "height": 119
        }
      },
      "source": [
        "amount=int(input('amount of students = '))\n",
        "b_height=0\n",
        "g_height=0\n",
        "boys=0\n",
        "girls=0\n",
        "for i in range(amount):\n",
        "    t=float(input('height of {} student = '.format(i+1)))\n",
        "    if t>=0:\n",
        "        g_height+=t\n",
        "        girls+=1\n",
        "    else:\n",
        "        b_height-=t\n",
        "        boys+=1\n",
        "print(\"average boy's height:{:.1f} \".format(b_height/boys))\n",
        "print(\"average girl's height:{:.1f}\" .format(g_height/girls))\n",
        " \n",
        " \n",
        "# --------------\n",
        "# Пример вывода:\n",
        "#\n",
        "# n = 5\n",
        "# Рост 1-го ученика = 150\n",
        "# Рост 2-го ученика = -150\n",
        "# Рост 3-го ученика = 160\n",
        "# Рост 4-го ученика = 170\n",
        "# Рост 5-го ученика = 180\n",
        "# Средний рост мальчиков: 150.0\n",
        "# Средний рост девочек: 165.0"
      ],
      "execution_count": null,
      "outputs": [
        {
          "output_type": "stream",
          "text": [
            "amount of students = 3\n",
            "height of 1 student = -198.2\n",
            "height of 2 student = 162.3\n",
            "height of 3 student = 155.5\n",
            "average boy's height:198.2 \n",
            "average girl's height:158.9\n"
          ],
          "name": "stdout"
        }
      ]
    },
    {
      "cell_type": "markdown",
      "metadata": {
        "id": "8CpjvFCC2tWf"
      },
      "source": [
        "№ 4.2.22\n",
        "\n",
        "Даны n вещественных чисел. Определите максимальное и минимальное из них.\n",
        "\n",
        "При выводе вещественных результатов оставьте два знака после запятой."
      ]
    },
    {
      "cell_type": "code",
      "metadata": {
        "id": "FtnWAFIewxnH",
        "outputId": "7ec6244b-a8c0-4e40-da85-236215c70a85",
        "colab": {
          "base_uri": "https://localhost:8080/",
          "height": 85
        }
      },
      "source": [
        "a1 = float(input('a1= '))\n",
        "a2 = float(input('a2='))\n",
        " \n",
        "if a1 == a2:\n",
        "    print('a1=a2={:.2f}'.format(a1,a2))\n",
        "elif a1 > a2:\n",
        "    print('a1=max={:.2f}'.format(a1))\n",
        "    print('a2=min={:.2f}'.format(a2))\n",
        "else:\n",
        "    print('a1=min={:.2f}'.format(a1))\n",
        "    print('a2=max={:.2f}'.format(a2))"
      ],
      "execution_count": null,
      "outputs": [
        {
          "output_type": "stream",
          "text": [
            "a1= 2.34\n",
            "a2=5.34\n",
            "a1=min=2.34\n",
            "a2=max=5.34\n"
          ],
          "name": "stdout"
        }
      ]
    }
  ]
}